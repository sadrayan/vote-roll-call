{
 "cells": [
  {
   "cell_type": "code",
   "execution_count": 1,
   "metadata": {
    "collapsed": true
   },
   "outputs": [],
   "source": [
    "import spacy\n",
    "import pandas as pd\n",
    "import multiprocessing\n",
    "import numpy as np\n",
    "# Load English tokenizer, tagger, parser, NER and word vectors\n",
    "nlp = spacy.load('en')"
   ]
  },
  {
   "cell_type": "code",
   "execution_count": 2,
   "metadata": {},
   "outputs": [
    {
     "data": {
      "text/html": [
       "<div>\n",
       "<table border=\"1\" class=\"dataframe\">\n",
       "  <thead>\n",
       "    <tr style=\"text-align: right;\">\n",
       "      <th></th>\n",
       "      <th>Unnamed: 0</th>\n",
       "      <th>bill_text</th>\n",
       "      <th>congress</th>\n",
       "      <th>legis_num</th>\n",
       "      <th>link</th>\n",
       "    </tr>\n",
       "  </thead>\n",
       "  <tbody>\n",
       "    <tr>\n",
       "      <th>0</th>\n",
       "      <td>0</td>\n",
       "      <td>[Congressional Bills 115th Congress]\\n[From th...</td>\n",
       "      <td>115</td>\n",
       "      <td>H R 724</td>\n",
       "      <td>https://www.congress.gov/bill/115th-congress/h...</td>\n",
       "    </tr>\n",
       "    <tr>\n",
       "      <th>1</th>\n",
       "      <td>1</td>\n",
       "      <td>[Congressional Bills 115th Congress]\\n[From th...</td>\n",
       "      <td>115</td>\n",
       "      <td>H R 3527</td>\n",
       "      <td>https://www.congress.gov/bill/115th-congress/h...</td>\n",
       "    </tr>\n",
       "    <tr>\n",
       "      <th>2</th>\n",
       "      <td>2</td>\n",
       "      <td>[Congressional Bills 115th Congress]\\n[From th...</td>\n",
       "      <td>115</td>\n",
       "      <td>H R 3628</td>\n",
       "      <td>https://www.congress.gov/bill/115th-congress/h...</td>\n",
       "    </tr>\n",
       "    <tr>\n",
       "      <th>3</th>\n",
       "      <td>3</td>\n",
       "      <td>[Congressional Bills 115th Congress]\\n[From th...</td>\n",
       "      <td>115</td>\n",
       "      <td>H RES 455</td>\n",
       "      <td>https://www.congress.gov/bill/115th-congress/h...</td>\n",
       "    </tr>\n",
       "    <tr>\n",
       "      <th>4</th>\n",
       "      <td>4</td>\n",
       "      <td>[Congressional Bills 115th Congress]\\n[From th...</td>\n",
       "      <td>115</td>\n",
       "      <td>H R 2279</td>\n",
       "      <td>https://www.congress.gov/bill/115th-congress/h...</td>\n",
       "    </tr>\n",
       "  </tbody>\n",
       "</table>\n",
       "</div>"
      ],
      "text/plain": [
       "   Unnamed: 0                                          bill_text  congress  \\\n",
       "0           0  [Congressional Bills 115th Congress]\\n[From th...       115   \n",
       "1           1  [Congressional Bills 115th Congress]\\n[From th...       115   \n",
       "2           2  [Congressional Bills 115th Congress]\\n[From th...       115   \n",
       "3           3  [Congressional Bills 115th Congress]\\n[From th...       115   \n",
       "4           4  [Congressional Bills 115th Congress]\\n[From th...       115   \n",
       "\n",
       "   legis_num                                               link  \n",
       "0    H R 724  https://www.congress.gov/bill/115th-congress/h...  \n",
       "1   H R 3527  https://www.congress.gov/bill/115th-congress/h...  \n",
       "2   H R 3628  https://www.congress.gov/bill/115th-congress/h...  \n",
       "3  H RES 455  https://www.congress.gov/bill/115th-congress/h...  \n",
       "4   H R 2279  https://www.congress.gov/bill/115th-congress/h...  "
      ]
     },
     "execution_count": 2,
     "metadata": {},
     "output_type": "execute_result"
    }
   ],
   "source": [
    "df_bill = pd.read_csv('data/bill_all.csv')\n",
    "df_bill.tail()"
   ]
  },
  {
   "cell_type": "code",
   "execution_count": 3,
   "metadata": {
    "collapsed": true
   },
   "outputs": [],
   "source": [
    "def _apply_df(args):\n",
    "    df, func, kwargs = args\n",
    "    df['bill_text_processed'] = df['bill_text'].apply(func, **kwargs)\n",
    "    return df#df.apply(func, **kwargs)\n",
    "\n",
    "def apply_by_multiprocessing(df, func, **kwargs):\n",
    "    workers = kwargs.pop('workers')\n",
    "    pool = multiprocessing.Pool(processes=workers)\n",
    "    result = pool.map(_apply_df, [(d, func, kwargs) for d in np.array_split(df, workers)])\n",
    "    pool.close()\n",
    "    return pd.concat(list(result))\n",
    "\n",
    "def sentence_tokenizer(raw_text):\n",
    "    # Create doc = nlp(raw_text) and parse sentences. \n",
    "#     return u' '.join([sent.string.strip() for sent in nlp(raw_text).sents])\n",
    "    return u' '.join([token.text for token in nlp(raw_text.lower())])"
   ]
  },
  {
   "cell_type": "code",
   "execution_count": 4,
   "metadata": {},
   "outputs": [
    {
     "name": "stdout",
     "output_type": "stream",
     "text": [
      "7\n",
      "CPU times: user 2.38 s, sys: 248 ms, total: 2.63 s\n",
      "Wall time: 2min 4s\n"
     ]
    }
   ],
   "source": [
    "%%time\n",
    "\n",
    "num_cores = multiprocessing.cpu_count() - 1\n",
    "print(num_cores) \n",
    "\n",
    "df_bill = apply_by_multiprocessing(df_bill, sentence_tokenizer,  workers=num_cores)\n",
    "   \n",
    "df_bill.to_csv('data/bill_all_processed.tsv', sep='\\t')"
   ]
  },
  {
   "cell_type": "code",
   "execution_count": 6,
   "metadata": {},
   "outputs": [
    {
     "data": {
      "text/html": [
       "<div>\n",
       "<table border=\"1\" class=\"dataframe\">\n",
       "  <thead>\n",
       "    <tr style=\"text-align: right;\">\n",
       "      <th></th>\n",
       "      <th>Unnamed: 0</th>\n",
       "      <th>bill_text</th>\n",
       "      <th>congress</th>\n",
       "      <th>legis_num</th>\n",
       "      <th>link</th>\n",
       "      <th>bill_text_processed</th>\n",
       "    </tr>\n",
       "  </thead>\n",
       "  <tbody>\n",
       "    <tr>\n",
       "      <th>3785</th>\n",
       "      <td>3785</td>\n",
       "      <td>[115th Congress Public Law 6]\\n[From the U.S. ...</td>\n",
       "      <td>115</td>\n",
       "      <td>H R 255</td>\n",
       "      <td>https://www.congress.gov/bill/115th-congress/h...</td>\n",
       "      <td>[ 115th congress public law 6 ] \\n [ from the ...</td>\n",
       "    </tr>\n",
       "    <tr>\n",
       "      <th>3786</th>\n",
       "      <td>3786</td>\n",
       "      <td>[Congressional Bills 115th Congress]\\n[From th...</td>\n",
       "      <td>115</td>\n",
       "      <td>H R 2019</td>\n",
       "      <td>https://www.congress.gov/bill/115th-congress/h...</td>\n",
       "      <td>[ congressional bills 115th congress ] \\n [ fr...</td>\n",
       "    </tr>\n",
       "    <tr>\n",
       "      <th>3787</th>\n",
       "      <td>3787</td>\n",
       "      <td>[Congressional Bills 115th Congress]\\n[From th...</td>\n",
       "      <td>115</td>\n",
       "      <td>H R 2319</td>\n",
       "      <td>https://www.congress.gov/bill/115th-congress/h...</td>\n",
       "      <td>[ congressional bills 115th congress ] \\n [ fr...</td>\n",
       "    </tr>\n",
       "    <tr>\n",
       "      <th>3788</th>\n",
       "      <td>3788</td>\n",
       "      <td>[Congressional Bills 115th Congress]\\n[From th...</td>\n",
       "      <td>115</td>\n",
       "      <td>S 1471</td>\n",
       "      <td>https://www.congress.gov/bill/115th-congress/h...</td>\n",
       "      <td>[ congressional bills 115th congress ] \\n [ fr...</td>\n",
       "    </tr>\n",
       "    <tr>\n",
       "      <th>3789</th>\n",
       "      <td>3789</td>\n",
       "      <td>[Congressional Bills 115th Congress]\\n[From th...</td>\n",
       "      <td>115</td>\n",
       "      <td>H R 3212</td>\n",
       "      <td>https://www.congress.gov/bill/115th-congress/h...</td>\n",
       "      <td>[ congressional bills 115th congress ] \\n [ fr...</td>\n",
       "    </tr>\n",
       "  </tbody>\n",
       "</table>\n",
       "</div>"
      ],
      "text/plain": [
       "      Unnamed: 0                                          bill_text  congress  \\\n",
       "3785        3785  [115th Congress Public Law 6]\\n[From the U.S. ...       115   \n",
       "3786        3786  [Congressional Bills 115th Congress]\\n[From th...       115   \n",
       "3787        3787  [Congressional Bills 115th Congress]\\n[From th...       115   \n",
       "3788        3788  [Congressional Bills 115th Congress]\\n[From th...       115   \n",
       "3789        3789  [Congressional Bills 115th Congress]\\n[From th...       115   \n",
       "\n",
       "     legis_num                                               link  \\\n",
       "3785   H R 255  https://www.congress.gov/bill/115th-congress/h...   \n",
       "3786  H R 2019  https://www.congress.gov/bill/115th-congress/h...   \n",
       "3787  H R 2319  https://www.congress.gov/bill/115th-congress/h...   \n",
       "3788    S 1471  https://www.congress.gov/bill/115th-congress/h...   \n",
       "3789  H R 3212  https://www.congress.gov/bill/115th-congress/h...   \n",
       "\n",
       "                                    bill_text_processed  \n",
       "3785  [ 115th congress public law 6 ] \\n [ from the ...  \n",
       "3786  [ congressional bills 115th congress ] \\n [ fr...  \n",
       "3787  [ congressional bills 115th congress ] \\n [ fr...  \n",
       "3788  [ congressional bills 115th congress ] \\n [ fr...  \n",
       "3789  [ congressional bills 115th congress ] \\n [ fr...  "
      ]
     },
     "execution_count": 6,
     "metadata": {},
     "output_type": "execute_result"
    }
   ],
   "source": [
    "df_bill.tail()"
   ]
  },
  {
   "cell_type": "code",
   "execution_count": null,
   "metadata": {
    "collapsed": true
   },
   "outputs": [],
   "source": []
  }
 ],
 "metadata": {
  "kernelspec": {
   "display_name": "Python 3",
   "language": "python",
   "name": "python3"
  },
  "language_info": {
   "codemirror_mode": {
    "name": "ipython",
    "version": 3
   },
   "file_extension": ".py",
   "mimetype": "text/x-python",
   "name": "python",
   "nbconvert_exporter": "python",
   "pygments_lexer": "ipython3",
   "version": "3.5.2"
  }
 },
 "nbformat": 4,
 "nbformat_minor": 2
}
