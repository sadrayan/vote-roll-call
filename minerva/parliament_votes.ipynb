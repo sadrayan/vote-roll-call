{
 "cells": [
  {
   "cell_type": "code",
   "execution_count": 3,
   "metadata": {
    "collapsed": true
   },
   "outputs": [],
   "source": [
    "from urllib.request import urlopen\n",
    "import pandas as pd\n",
    "from bs4 import BeautifulSoup\n",
    "from dateutil.parser import parse\n",
    "\n",
    "import matplotlib.pyplot as plt\n",
    "from IPython.display import display \n",
    "\n",
    "plt.style.use('seaborn-paper')\n",
    "%matplotlib inline"
   ]
  },
  {
   "cell_type": "code",
   "execution_count": 5,
   "metadata": {
    "collapsed": true
   },
   "outputs": [],
   "source": [
    "def xml2df(xml_data):\n",
    "#     print(xml_data)\n",
    "    root = ET.XML(xml_data) # element tree\n",
    "\n",
    "    all_records = [] #This is our record list which we will convert into a dataframe\n",
    "    \n",
    "#     orderOfBusinessList = root.find('HansardBody').iter('OrderOfBusiness')\n",
    "    \n",
    "#     volume = root.findall(\".//ExtractedItem[@Name='Volume']\")[0].text\n",
    "#     number = root.findall(\".//ExtractedItem[@Name='Number']\")[0].text\n",
    "#     session = root.findall(\".//ExtractedItem[@Name='Session']\")[0].text\n",
    "#     parliament = root.findall(\".//ExtractedItem[@Name='Parliament']\")[0].text\n",
    "#     speakerName = root.findall(\".//ExtractedItem[@Name='SpeakerName']\")[0].text\n",
    "#     date = root.findall(\".//ExtractedItem[@Name='Date']\")[0].text   \n",
    "# #     print(volume)\n",
    "    \n",
    "#     for orderOfBusiness in orderOfBusinessList:\n",
    "        \n",
    "#         orderOfBusinessRubric = orderOfBusiness.attrib['Rubric']\n",
    "# #         print('orderOfBusinessRubric', orderOfBusinessRubric)\n",
    "#         if (orderOfBusinessRubric == 'OralQuestionPeriod'):\n",
    "        \n",
    "#             orderOfBusinessId =  orderOfBusiness.attrib['id']            \n",
    "#             orderOfBusinessCatchLine = orderOfBusiness.find('CatchLine').text\n",
    "        \n",
    "#             for subjectOfBusiness in orderOfBusiness.findall('SubjectOfBusiness'):\n",
    "\n",
    "#                 subjectOfBusinessContent = subjectOfBusiness.find('SubjectOfBusinessContent')\n",
    "#                 for intervention in subjectOfBusinessContent.iter('Intervention'):\n",
    "                    \n",
    "#                     record = {} #Place holder for our record\n",
    "#                     record['orderOfBusinessId'] = orderOfBusinessId\n",
    "#                     record['orderOfBusinessRubric'] = orderOfBusinessRubric\n",
    "#                     record['orderOfBusinessCatchLine'] = orderOfBusinessCatchLine\n",
    "#                     record['volume'] = volume\n",
    "#                     record['number'] = number        \n",
    "#                     record['session'] = session\n",
    "#                     record['parliament'] = parliament\n",
    "#                     record['speakerName'] = speakerName\n",
    "#                     record['date'] = date\n",
    "                                            \n",
    "#                     try:\n",
    "#                         record['subjectOfBusinessId'] = subjectOfBusiness.attrib['id']\n",
    "#                     except Exception:\n",
    "#                         continue    \n",
    "                        \n",
    "                    \n",
    "#                     if subjectOfBusiness.find('SubjectOfBusinessTitle') is not None:\n",
    "#                         record['SubjectOfBusinessTitle'] = subjectOfBusiness.find('SubjectOfBusinessTitle').text.strip()\n",
    "#                     else:\n",
    "#                         record['SubjectOfBusinessTitle'] = 'generic'\n",
    "                        \n",
    "\n",
    "#                     if subjectOfBusiness.find('FloorLanguage') is not None:\n",
    "#                         record['FloorLanguage'] = subjectOfBusiness.find('FloorLanguage').attrib['language']\n",
    "#                     else:\n",
    "#                         record['FloorLanguage'] = 'EN'\n",
    "\n",
    "#                     record['personSpeaking'] = intervention.findall('PersonSpeaking/Affiliation')[0].text\n",
    "#                     record['personId'] =intervention.findall('PersonSpeaking/Affiliation')[0].attrib['DbId']\n",
    "                    \n",
    "#                     # Get all texts from intervention - Only one person is speaking per intervention.\n",
    "# #                     content = []\n",
    "                    \n",
    "#                     content = ET.tostring(intervention.find('Content'), encoding='UTF-8', method='text')\n",
    "#                     record['content'] = content.decode('UTF-8')\n",
    "# #                     for paraText in intervention.iter('ParaText'):\n",
    "# #                         if paraText.text is not None:\n",
    "# #                             content.append(paraText.text)\n",
    "\n",
    "# #                     record['content'] = ' \\lineBreak '.join(content)\n",
    "                    \n",
    "#                     all_records.append(record) #Append this record to all_records. \n",
    "\n",
    "#     return pd.DataFrame(all_records) #return records as DataFrame"
   ]
  },
  {
   "cell_type": "code",
   "execution_count": 4,
   "metadata": {},
   "outputs": [
    {
     "name": "stdout",
     "output_type": "stream",
     "text": [
      "processing https://www.ourcommons.ca/Parliamentarians/en/HouseVotes/ExportVotes?sessionId=150&output=XML\n"
     ]
    }
   ],
   "source": [
    "link = 'https://www.ourcommons.ca/Parliamentarians/en/HouseVotes/ExportVotes?sessionId=150&output=XML'\n",
    "print('processing', link)\n",
    "urlContent = urlopen(link).read().decode('utf-8')\n",
    "xml2df(urlContent)"
   ]
  }
 ],
 "metadata": {
  "kernelspec": {
   "display_name": "Python 3",
   "language": "python",
   "name": "python3"
  },
  "language_info": {
   "codemirror_mode": {
    "name": "ipython",
    "version": 3
   },
   "file_extension": ".py",
   "mimetype": "text/x-python",
   "name": "python",
   "nbconvert_exporter": "python",
   "pygments_lexer": "ipython3",
   "version": "3.5.2"
  }
 },
 "nbformat": 4,
 "nbformat_minor": 2
}
