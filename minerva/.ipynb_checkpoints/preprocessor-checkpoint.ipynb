{
 "cells": [
  {
   "cell_type": "code",
   "execution_count": 1,
   "metadata": {
    "collapsed": true
   },
   "outputs": [],
   "source": [
    "import spacy\n",
    "import pandas as pd\n",
    "import multiprocessing\n",
    "import numpy as np\n"
   ]
  },
  {
   "cell_type": "code",
   "execution_count": 2,
   "metadata": {},
   "outputs": [
    {
     "name": "stdout",
     "output_type": "stream",
     "text": [
      "number of q & a 100\n"
     ]
    },
    {
     "data": {
      "text/html": [
       "<div>\n",
       "<table border=\"1\" class=\"dataframe\">\n",
       "  <thead>\n",
       "    <tr style=\"text-align: right;\">\n",
       "      <th></th>\n",
       "      <th>Q</th>\n",
       "      <th>A</th>\n",
       "    </tr>\n",
       "  </thead>\n",
       "  <tbody>\n",
       "    <tr>\n",
       "      <th>95</th>\n",
       "      <td>Mr. Speaker, the people of Moncton are shocked...</td>\n",
       "      <td>Mr. Speaker, first of all I congratulate the m...</td>\n",
       "    </tr>\n",
       "    <tr>\n",
       "      <th>96</th>\n",
       "      <td>Mr. Speaker, later today we will be voting on ...</td>\n",
       "      <td>Mr. Speaker, I thank the member for the questi...</td>\n",
       "    </tr>\n",
       "    <tr>\n",
       "      <th>97</th>\n",
       "      <td>Mr. Speaker, yesterday's budget shows no leade...</td>\n",
       "      <td>Mr. Speaker, in our effort to support the prov...</td>\n",
       "    </tr>\n",
       "    <tr>\n",
       "      <th>98</th>\n",
       "      <td>The member for Papineau.</td>\n",
       "      <td>Mr. Speaker, the agreement with the provinces ...</td>\n",
       "    </tr>\n",
       "    <tr>\n",
       "      <th>99</th>\n",
       "      <td>Mr. Speaker, as I mentioned earlier, the healt...</td>\n",
       "      <td>The hon. member for York West.</td>\n",
       "    </tr>\n",
       "  </tbody>\n",
       "</table>\n",
       "</div>"
      ],
      "text/plain": [
       "                                                    Q  \\\n",
       "95  Mr. Speaker, the people of Moncton are shocked...   \n",
       "96  Mr. Speaker, later today we will be voting on ...   \n",
       "97  Mr. Speaker, yesterday's budget shows no leade...   \n",
       "98                           The member for Papineau.   \n",
       "99  Mr. Speaker, as I mentioned earlier, the healt...   \n",
       "\n",
       "                                                    A  \n",
       "95  Mr. Speaker, first of all I congratulate the m...  \n",
       "96  Mr. Speaker, I thank the member for the questi...  \n",
       "97  Mr. Speaker, in our effort to support the prov...  \n",
       "98  Mr. Speaker, the agreement with the provinces ...  \n",
       "99                     The hon. member for York West.  "
      ]
     },
     "execution_count": 2,
     "metadata": {},
     "output_type": "execute_result"
    }
   ],
   "source": [
    "df_hansard  = pd.read_csv('data/hansard_all.csv')\n",
    "\n",
    "df_group = df_hansard.groupby('subjectOfBusinessId')\n",
    "\n",
    "q_a = []\n",
    "for i, index in df_group.groups.items():\n",
    "    # don't bother with odd pairs\n",
    "    if (len(index) % 2 != 0): \n",
    "        continue\n",
    "\n",
    "    # Create conversatoin pairs\n",
    "    t = df_hansard.iloc[list(index)]['content'].values\n",
    "    q_a.append(list(zip(t[::2], t[1::2])))\n",
    "\n",
    "q_a = [item for sublist in q_a for item in sublist]\n",
    "\n",
    "q_a = q_a[:100]\n",
    "\n",
    "print('number of q & a', len(q_a))\n",
    "    \n",
    "df_q_a = pd.DataFrame(q_a)\n",
    "df_q_a.columns = ['Q', 'A']\n",
    "df_q_a.to_csv('data/q_a_all.csv')\n",
    "df_q_a.tail()"
   ]
  },
  {
   "cell_type": "code",
   "execution_count": null,
   "metadata": {
    "collapsed": true
   },
   "outputs": [],
   "source": [
    "# Load English tokenizer, tagger, parser, NER and word vectors\n",
    "nlp = spacy.load('en')\n",
    "\n",
    "def sentence_tokenizer(raw_text):\n",
    "    # Create doc = nlp(raw_text) and parse sentences. \n",
    "    return u' '.join(['BOS ' + sent.string.strip() + ' EOS' for sent in nlp(raw_text).sents])"
   ]
  },
  {
   "cell_type": "code",
   "execution_count": null,
   "metadata": {},
   "outputs": [],
   "source": [
    "%%time\n",
    "\n",
    "def _apply_df(args):\n",
    "    df, func, kwargs = args\n",
    "    df['Q'] = df['Q'].apply(func, **kwargs)\n",
    "    df['A'] = df['A'].apply(func, **kwargs)\n",
    "    return df#df.apply(func, **kwargs)\n",
    "\n",
    "def apply_by_multiprocessing(df, func, **kwargs):\n",
    "    workers = kwargs.pop('workers')\n",
    "    pool = multiprocessing.Pool(processes=workers)\n",
    "    result = pool.map(_apply_df, [(d, func, kwargs) for d in np.array_split(df, workers)])\n",
    "    pool.close()\n",
    "    return pd.concat(list(result))\n",
    "    \n",
    "num_cores = multiprocessing.cpu_count()\n",
    "print(num_cores) \n",
    "    \n",
    "df_q_a = pd.read_csv('data/q_a_all.csv')\n",
    "\n",
    "df_q_a = apply_by_multiprocessing(df_q_a, sentence_tokenizer,  workers=num_cores)\n",
    "   \n",
    "df_q_a.to_csv('data/q_a_all.csv')\n",
    "df_q_a.tail()\n"
   ]
  },
  {
   "cell_type": "code",
   "execution_count": null,
   "metadata": {},
   "outputs": [],
   "source": [
    "\n",
    "df_q_a = pd.read_csv('data/q_a_all.csv')\n",
    "# df_q_a.drop(['Unnamed: 0', 'Unnamed: 0.1'], axis=1, inplace=True)\n",
    "# df_q_a.to_csv('data/q_a_all.csv')\n",
    "# text= ' Mr. Speaker, when the Prime Minister interrupted a woman at a town hall, correcting her use of “mankind” with “peoplekind“, his mansplaining went viral. Around the world, the Prime Minister was mocked for his political correctness. The Prime Minister eventually conceded that it was a dumb joke, but his principal secretary, Gerald Butts, tweeted that any and all who criticized his boss were Nazis. The Prime Minister once said that any statement by Mr. Butts could be considered his own, and in this case?'\n",
    "print(df_q_a['Q'][10])\n",
    "# print(sentence_t.okenizer(df_q_a['Q'][10]))\n",
    "\n",
    "# df_q_a['Q'] = df_q_a['Q'].apply(sentence_tokenizer)\n",
    "# df_q_a['A'] = df_q_a['A'].apply(sentence_tokenizer)\n",
    "# df_q_a.to_csv('data/q_a.csv')\n",
    "df_q_a.tail()\n",
    "\n"
   ]
  },
  {
   "cell_type": "code",
   "execution_count": null,
   "metadata": {},
   "outputs": [],
   "source": [
    "df_q_a['Q_A'] = df_q_a[['Q', 'A']].apply(lambda x: u' '.join(x), axis=1)\n",
    "\n",
    "\n",
    "print(len(df_q_a['Q_A']))\n",
    "with open('data/Q_A_pairs.txt', 'w') as file:\n",
    "    for row in df_q_a['Q_A']:\n",
    "        file.write(row.strip() + '\\n')\n"
   ]
  },
  {
   "cell_type": "code",
   "execution_count": null,
   "metadata": {
    "collapsed": true
   },
   "outputs": [],
   "source": []
  }
 ],
 "metadata": {
  "kernelspec": {
   "display_name": "Python 3",
   "language": "python",
   "name": "python3"
  },
  "language_info": {
   "codemirror_mode": {
    "name": "ipython",
    "version": 3
   },
   "file_extension": ".py",
   "mimetype": "text/x-python",
   "name": "python",
   "nbconvert_exporter": "python",
   "pygments_lexer": "ipython3",
   "version": "3.5.2"
  }
 },
 "nbformat": 4,
 "nbformat_minor": 2
}
